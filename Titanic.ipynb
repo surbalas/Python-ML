{
 "cells": [
  {
   "cell_type": "markdown",
   "metadata": {},
   "source": [
    "## Titanic Survivor Data\n",
    "\n",
    "### Features\n",
    "Age, Sex, Pclass, Ticket Number/fare, Sibsp, Parch, Embarked\n",
    "\n",
    "### Questions? \n",
    "* Embarked correlated with class? \n",
    "* What percentage of male or female survived? \n",
    "* Is age correlated with survival of passengers? \n",
    "* Higher survival for female with children than without children? \n"
   ]
  },
  {
   "cell_type": "code",
   "execution_count": 50,
   "metadata": {},
   "outputs": [],
   "source": [
    "# Logistic Regression Classification for Titanic Problem\n",
    "import numpy as np\n",
    "import pandas as pd\n",
    "import matplotlib.pyplot as plt\n",
    "% matplotlib inline\n",
    "import seaborn as sn\n",
    "# from sklearn.linear_model import LogisticRegression\n",
    "from sklearn.preprocessing import LabelEncoder\n"
   ]
  },
  {
   "cell_type": "code",
   "execution_count": 51,
   "metadata": {},
   "outputs": [
    {
     "name": "stdout",
     "output_type": "stream",
     "text": [
      "     PassengerId  Survived  Pclass                                       Name  \\\n",
      "61            62         1       1                        Icard, Miss. Amelie   \n",
      "829          830         1       1  Stone, Mrs. George Nelson (Martha Evelyn)   \n",
      "\n",
      "        Sex   Age  SibSp  Parch  Ticket  Fare Cabin Embarked  Sexn  Embarkedn  \n",
      "61   female  38.0      0      0  113572  80.0   B28      NaN     0          3  \n",
      "829  female  62.0      0      0  113572  80.0   B28      NaN     0          3  \n"
     ]
    }
   ],
   "source": [
    "# Import Training Titanic Data\n",
    "df_train = pd.read_csv('train.csv')\n",
    "enc_s = LabelEncoder()\n",
    "enc_e = LabelEncoder()\n",
    "df_train['Sexn'] = enc_s.fit_transform(df_train['Sex'])\n",
    "df_train['Embarkedn'] = enc_e.fit_transform(df_train['Embarked'].astype(str))\n",
    "print(df_train[df_train.Embarked.isnull()==True])\n",
    "#df_train[df_train.Age.isnull()==True]"
   ]
  },
  {
   "cell_type": "code",
   "execution_count": 52,
   "metadata": {},
   "outputs": [],
   "source": [
    "# Import Testing Titanic Data\n",
    "df_test = pd.read_csv('test.csv')\n",
    "enc_ts = LabelEncoder()\n",
    "enc_te = LabelEncoder()\n",
    "df_test['Sexn'] = enc_ts.fit_transform(df_test['Sex'])\n",
    "df_test['Embarkedn'] = enc_te.fit_transform(df_test['Embarked'].astype(str))\n",
    "\n"
   ]
  },
  {
   "cell_type": "code",
   "execution_count": 53,
   "metadata": {},
   "outputs": [
    {
     "data": {
      "text/html": [
       "<div>\n",
       "<style scoped>\n",
       "    .dataframe tbody tr th:only-of-type {\n",
       "        vertical-align: middle;\n",
       "    }\n",
       "\n",
       "    .dataframe tbody tr th {\n",
       "        vertical-align: top;\n",
       "    }\n",
       "\n",
       "    .dataframe thead th {\n",
       "        text-align: right;\n",
       "    }\n",
       "</style>\n",
       "<table border=\"1\" class=\"dataframe\">\n",
       "  <thead>\n",
       "    <tr style=\"text-align: right;\">\n",
       "      <th></th>\n",
       "      <th>PassengerId</th>\n",
       "      <th>Survived</th>\n",
       "      <th>Pclass</th>\n",
       "      <th>Age</th>\n",
       "      <th>SibSp</th>\n",
       "      <th>Parch</th>\n",
       "      <th>Fare</th>\n",
       "      <th>Sexn</th>\n",
       "      <th>Embarkedn</th>\n",
       "    </tr>\n",
       "  </thead>\n",
       "  <tbody>\n",
       "    <tr>\n",
       "      <th>count</th>\n",
       "      <td>891.000000</td>\n",
       "      <td>891.000000</td>\n",
       "      <td>891.000000</td>\n",
       "      <td>714.000000</td>\n",
       "      <td>891.000000</td>\n",
       "      <td>891.000000</td>\n",
       "      <td>891.000000</td>\n",
       "      <td>891.000000</td>\n",
       "      <td>891.000000</td>\n",
       "    </tr>\n",
       "    <tr>\n",
       "      <th>mean</th>\n",
       "      <td>446.000000</td>\n",
       "      <td>0.383838</td>\n",
       "      <td>2.308642</td>\n",
       "      <td>29.699118</td>\n",
       "      <td>0.523008</td>\n",
       "      <td>0.381594</td>\n",
       "      <td>32.204208</td>\n",
       "      <td>0.647587</td>\n",
       "      <td>1.538721</td>\n",
       "    </tr>\n",
       "    <tr>\n",
       "      <th>std</th>\n",
       "      <td>257.353842</td>\n",
       "      <td>0.486592</td>\n",
       "      <td>0.836071</td>\n",
       "      <td>14.526497</td>\n",
       "      <td>1.102743</td>\n",
       "      <td>0.806057</td>\n",
       "      <td>49.693429</td>\n",
       "      <td>0.477990</td>\n",
       "      <td>0.794231</td>\n",
       "    </tr>\n",
       "    <tr>\n",
       "      <th>min</th>\n",
       "      <td>1.000000</td>\n",
       "      <td>0.000000</td>\n",
       "      <td>1.000000</td>\n",
       "      <td>0.420000</td>\n",
       "      <td>0.000000</td>\n",
       "      <td>0.000000</td>\n",
       "      <td>0.000000</td>\n",
       "      <td>0.000000</td>\n",
       "      <td>0.000000</td>\n",
       "    </tr>\n",
       "    <tr>\n",
       "      <th>25%</th>\n",
       "      <td>223.500000</td>\n",
       "      <td>0.000000</td>\n",
       "      <td>2.000000</td>\n",
       "      <td>20.125000</td>\n",
       "      <td>0.000000</td>\n",
       "      <td>0.000000</td>\n",
       "      <td>7.910400</td>\n",
       "      <td>0.000000</td>\n",
       "      <td>1.000000</td>\n",
       "    </tr>\n",
       "    <tr>\n",
       "      <th>50%</th>\n",
       "      <td>446.000000</td>\n",
       "      <td>0.000000</td>\n",
       "      <td>3.000000</td>\n",
       "      <td>28.000000</td>\n",
       "      <td>0.000000</td>\n",
       "      <td>0.000000</td>\n",
       "      <td>14.454200</td>\n",
       "      <td>1.000000</td>\n",
       "      <td>2.000000</td>\n",
       "    </tr>\n",
       "    <tr>\n",
       "      <th>75%</th>\n",
       "      <td>668.500000</td>\n",
       "      <td>1.000000</td>\n",
       "      <td>3.000000</td>\n",
       "      <td>38.000000</td>\n",
       "      <td>1.000000</td>\n",
       "      <td>0.000000</td>\n",
       "      <td>31.000000</td>\n",
       "      <td>1.000000</td>\n",
       "      <td>2.000000</td>\n",
       "    </tr>\n",
       "    <tr>\n",
       "      <th>max</th>\n",
       "      <td>891.000000</td>\n",
       "      <td>1.000000</td>\n",
       "      <td>3.000000</td>\n",
       "      <td>80.000000</td>\n",
       "      <td>8.000000</td>\n",
       "      <td>6.000000</td>\n",
       "      <td>512.329200</td>\n",
       "      <td>1.000000</td>\n",
       "      <td>3.000000</td>\n",
       "    </tr>\n",
       "  </tbody>\n",
       "</table>\n",
       "</div>"
      ],
      "text/plain": [
       "       PassengerId    Survived      Pclass         Age       SibSp  \\\n",
       "count   891.000000  891.000000  891.000000  714.000000  891.000000   \n",
       "mean    446.000000    0.383838    2.308642   29.699118    0.523008   \n",
       "std     257.353842    0.486592    0.836071   14.526497    1.102743   \n",
       "min       1.000000    0.000000    1.000000    0.420000    0.000000   \n",
       "25%     223.500000    0.000000    2.000000   20.125000    0.000000   \n",
       "50%     446.000000    0.000000    3.000000   28.000000    0.000000   \n",
       "75%     668.500000    1.000000    3.000000   38.000000    1.000000   \n",
       "max     891.000000    1.000000    3.000000   80.000000    8.000000   \n",
       "\n",
       "            Parch        Fare        Sexn   Embarkedn  \n",
       "count  891.000000  891.000000  891.000000  891.000000  \n",
       "mean     0.381594   32.204208    0.647587    1.538721  \n",
       "std      0.806057   49.693429    0.477990    0.794231  \n",
       "min      0.000000    0.000000    0.000000    0.000000  \n",
       "25%      0.000000    7.910400    0.000000    1.000000  \n",
       "50%      0.000000   14.454200    1.000000    2.000000  \n",
       "75%      0.000000   31.000000    1.000000    2.000000  \n",
       "max      6.000000  512.329200    1.000000    3.000000  "
      ]
     },
     "execution_count": 53,
     "metadata": {},
     "output_type": "execute_result"
    }
   ],
   "source": [
    "df_train.describe()"
   ]
  },
  {
   "cell_type": "code",
   "execution_count": 54,
   "metadata": {},
   "outputs": [
    {
     "data": {
      "text/plain": [
       "PassengerId    891\n",
       "Survived       891\n",
       "Pclass         891\n",
       "Name           891\n",
       "Sex            891\n",
       "Age            714\n",
       "SibSp          891\n",
       "Parch          891\n",
       "Ticket         891\n",
       "Fare           891\n",
       "Cabin          204\n",
       "Embarked       889\n",
       "Sexn           891\n",
       "Embarkedn      891\n",
       "dtype: int64"
      ]
     },
     "execution_count": 54,
     "metadata": {},
     "output_type": "execute_result"
    }
   ],
   "source": [
    "df_train.count()"
   ]
  },
  {
   "cell_type": "code",
   "execution_count": 55,
   "metadata": {},
   "outputs": [
    {
     "name": "stdout",
     "output_type": "stream",
     "text": [
      "2\n"
     ]
    }
   ],
   "source": [
    "# Imputation of Age Data \n",
    "\n",
    "df_train['Age'] = df_train['Age'].fillna(df_train.Age.mean())\n",
    "\n",
    "\n",
    "# Imputation of Embarked Data\n",
    "print(df_train.Embarkedn.mode()[0])\n",
    "df_train['Embarkedn'] = df_train['Embarkedn'].fillna(df_train.Embarkedn.mode()[0])\n"
   ]
  },
  {
   "cell_type": "code",
   "execution_count": 56,
   "metadata": {},
   "outputs": [
    {
     "data": {
      "text/plain": [
       "PassengerId    418\n",
       "Pclass         418\n",
       "Name           418\n",
       "Sex            418\n",
       "Age            332\n",
       "SibSp          418\n",
       "Parch          418\n",
       "Ticket         418\n",
       "Fare           417\n",
       "Cabin           91\n",
       "Embarked       418\n",
       "Sexn           418\n",
       "Embarkedn      418\n",
       "dtype: int64"
      ]
     },
     "execution_count": 56,
     "metadata": {},
     "output_type": "execute_result"
    }
   ],
   "source": [
    "df_test.count()"
   ]
  },
  {
   "cell_type": "code",
   "execution_count": 57,
   "metadata": {},
   "outputs": [
    {
     "name": "stdout",
     "output_type": "stream",
     "text": [
      "7.75\n",
      "Empty DataFrame\n",
      "Columns: [PassengerId, Pclass, Name, Sex, Age, SibSp, Parch, Ticket, Fare, Cabin, Embarked, Sexn, Embarkedn]\n",
      "Index: []\n"
     ]
    }
   ],
   "source": [
    "# Imputation of Age Data \n",
    "df_test['Age'] = df_test['Age'].fillna(df_test.Age.mean())\n",
    "\n",
    "# Imputation of Embarked Data\n",
    "mode_fare_pclass_3 = df_test['Fare'][df_test.Pclass==3].mode()[0]\n",
    "print(mode_fare_pclass_3)\n",
    "df_test['Fare']  = df_test['Fare'].fillna(mode_fare_pclass_3)\n",
    "print(df_test[pd.isnull(df_test['Fare'])])"
   ]
  },
  {
   "cell_type": "markdown",
   "metadata": {
    "collapsed": true
   },
   "source": [
    "# Personal Rant about Titanic Data\n",
    "* PassengerId is the index of the data set starting from one.\n",
    "* Survived is the Response Variable\n",
    "* Age and Fare are Continuous variables\n",
    "    * About 177 Age variable values are missing\n",
    "* SibSp, Parch, Sex and Embarked are categorical variables\n"
   ]
  },
  {
   "cell_type": "code",
   "execution_count": 58,
   "metadata": {},
   "outputs": [
    {
     "name": "stdout",
     "output_type": "stream",
     "text": [
      "891\n",
      "891\n"
     ]
    }
   ],
   "source": [
    "# Features which are missing \n",
    "feature = 'Embarkedn'\n",
    "print(len(df_train[feature]))\n",
    "\n",
    "# Print \n",
    "new = df_train[feature][pd.isna(df_train[feature])]\n",
    "#print(new.values)\n",
    "\n",
    "# Remove the rows where NaN is there in 'Age' Column\n",
    "df_train = df_train.dropna(axis=0, subset=['Age'])\n",
    "\n",
    "print(len(df_train[feature]))\n"
   ]
  },
  {
   "cell_type": "markdown",
   "metadata": {},
   "source": [
    "## Any trend "
   ]
  },
  {
   "cell_type": "code",
   "execution_count": 59,
   "metadata": {},
   "outputs": [
    {
     "data": {
      "text/plain": [
       "[]"
      ]
     },
     "execution_count": 59,
     "metadata": {},
     "output_type": "execute_result"
    },
    {
     "data": {
      "image/png": "[encoded data removed]",
      "text/plain": [
       "<Figure size 432x288 with 2 Axes>"
      ]
     },
     "metadata": {},
     "output_type": "display_data"
    }
   ],
   "source": [
    "# Plot Heat map of Correlation\n",
    "Train_val = df_train[['Survived', 'Pclass', 'Sexn', 'Age', 'SibSp', 'Parch', 'Fare', 'Embarkedn']]\n",
    "sn.heatmap(Train_val.corr(), annot=True)\n",
    "plt.plot()"
   ]
  },
  {
   "cell_type": "code",
   "execution_count": 60,
   "metadata": {},
   "outputs": [
    {
     "name": "stdout",
     "output_type": "stream",
     "text": [
      "Embarked  Pclass\n",
      "C         1          85\n",
      "          2          17\n",
      "          3          66\n",
      "Q         1           2\n",
      "          2           3\n",
      "          3          72\n",
      "S         1         127\n",
      "          2         164\n",
      "          3         353\n",
      "Name: Sex, dtype: int64\n"
     ]
    },
    {
     "data": {
      "image/png": "[encoded data removed]",
      "text/plain": [
       "<Figure size 432x288 with 1 Axes>"
      ]
     },
     "metadata": {},
     "output_type": "display_data"
    }
   ],
   "source": [
    "# Groupby Embarked and Class\n",
    "\n",
    "embark = df_train.groupby(['Embarked','Pclass'])\n",
    "print(embark['Sex'].agg('count'))\n",
    "sn.countplot(x='Embarked', hue='Pclass', data = df_train)\n",
    "plt.show()"
   ]
  },
  {
   "cell_type": "code",
   "execution_count": 61,
   "metadata": {},
   "outputs": [
    {
     "data": {
      "image/png": "[encoded data removed]",
      "text/plain": [
       "<Figure size 432x288 with 1 Axes>"
      ]
     },
     "metadata": {},
     "output_type": "display_data"
    }
   ],
   "source": [
    "# Groupby Survival and Sex\n",
    "class_survival = df_train.groupby(['Survived','Sex'])\n",
    "# Plot Seaborn Count Plot\n",
    "sn.countplot(x='Survived', hue='Sex', data = df_train)\n",
    "plt.show()"
   ]
  },
  {
   "cell_type": "markdown",
   "metadata": {},
   "source": [
    "## Some info on the numbers displayed above\n",
    "\n",
    "* The number of females who travelled aboard the titanic was below 50% of the number of males who travelled.\n",
    "* Even though the number of females were significantly less than the number of males, the count of females who survived the disaster were more than the number of males.  \n"
   ]
  },
  {
   "cell_type": "code",
   "execution_count": 62,
   "metadata": {},
   "outputs": [
    {
     "name": "stdout",
     "output_type": "stream",
     "text": [
      "Survived  Pclass\n",
      "0         1          80\n",
      "          2          97\n",
      "          3         372\n",
      "1         1         136\n",
      "          2          87\n",
      "          3         119\n",
      "Name: Survived, dtype: int64\n"
     ]
    }
   ],
   "source": [
    "# Groupby Survived and Class\n",
    "\n",
    "embark = df_train.groupby(['Survived','Pclass'])\n",
    "print(embark['Survived'].agg('count'))\n"
   ]
  },
  {
   "cell_type": "code",
   "execution_count": 63,
   "metadata": {},
   "outputs": [
    {
     "data": {
      "image/png": "[encoded data removed]",
      "text/plain": [
       "<Figure size 432x288 with 1 Axes>"
      ]
     },
     "metadata": {},
     "output_type": "display_data"
    }
   ],
   "source": [
    "# Plot Seaborn Count Plot\n",
    "sn.countplot(x='Survived', hue='Pclass', data = df_train)\n",
    "plt.show()"
   ]
  },
  {
   "cell_type": "code",
   "execution_count": 64,
   "metadata": {},
   "outputs": [],
   "source": [
    "# Group by age range\n",
    "def convert_ages(df):\n",
    "    \"\"\" \n",
    "    Convert ages in a dataframe df\n",
    "    \"\"\"\n",
    "    def age_groups(age):\n",
    "        if(age > 0 and age <= 10):\n",
    "            return 'Child'\n",
    "        elif(age > 10 and age <= 20):\n",
    "            return 'Teen'\n",
    "        elif(age > 21 and age <= 30):\n",
    "            return 'Adult-20s'\n",
    "        elif(age > 31 and age <= 40):\n",
    "            return 'Adult-30s'\n",
    "        elif(age > 41 and age <= 50):\n",
    "            return 'Adult-40s'\n",
    "        elif(age > 51 and age <= 60):\n",
    "            return 'Adult-50s'\n",
    "        elif(age > 60):\n",
    "            return 'Adult > 60'\n",
    "        elif(age == 'NaN'):\n",
    "            return 'Age not given'\n",
    "        \n",
    "    age_category = df['Age'].apply(age_groups)\n",
    "    return age_category\n",
    "\n",
    "df_train['Age_Group'] = convert_ages(df_train)"
   ]
  },
  {
   "cell_type": "code",
   "execution_count": 65,
   "metadata": {},
   "outputs": [
    {
     "name": "stdout",
     "output_type": "stream",
     "text": [
      "Survived  Age_Group \n",
      "0         Adult > 60     17\n",
      "          Adult-20s     251\n",
      "          Adult-30s      75\n",
      "          Adult-40s      47\n",
      "          Adult-50s      20\n",
      "          Child          26\n",
      "          Teen           71\n",
      "1         Adult > 60      5\n",
      "          Adult-20s     131\n",
      "          Adult-30s      61\n",
      "          Adult-40s      31\n",
      "          Adult-50s      15\n",
      "          Child          38\n",
      "          Teen           44\n",
      "Name: Survived, dtype: int64\n"
     ]
    },
    {
     "data": {
      "image/png": "[encoded data removed]",
      "text/plain": [
       "<Figure size 432x288 with 1 Axes>"
      ]
     },
     "metadata": {},
     "output_type": "display_data"
    }
   ],
   "source": [
    "# Groupby Age Group\n",
    "ages = df_train.groupby(['Survived','Age_Group'])\n",
    "print(ages['Survived'].agg('count'))\n",
    "\n",
    "sn.countplot(x='Survived', hue='Age_Group', data = df_train)\n",
    "plt.show()"
   ]
  },
  {
   "cell_type": "code",
   "execution_count": 66,
   "metadata": {},
   "outputs": [
    {
     "name": "stdout",
     "output_type": "stream",
     "text": [
      "Survived  Parch\n",
      "0         0        445\n",
      "          1         53\n",
      "          2         40\n",
      "          3          2\n",
      "          4          4\n",
      "          5          4\n",
      "          6          1\n",
      "1         0        233\n",
      "          1         65\n",
      "          2         40\n",
      "          3          3\n",
      "          5          1\n",
      "Name: Survived, dtype: int64\n"
     ]
    }
   ],
   "source": [
    "# Group by Parch\n",
    "par_ch = df_train.groupby(['Survived','Parch'])\n",
    "print(par_ch['Survived'].agg('count'))\n"
   ]
  },
  {
   "cell_type": "code",
   "execution_count": 67,
   "metadata": {},
   "outputs": [
    {
     "name": "stdout",
     "output_type": "stream",
     "text": [
      "Survived  SibSp\n",
      "0         0        398\n",
      "          1         97\n",
      "          2         15\n",
      "          3         12\n",
      "          4         15\n",
      "          5          5\n",
      "          8          7\n",
      "1         0        210\n",
      "          1        112\n",
      "          2         13\n",
      "          3          4\n",
      "          4          3\n",
      "Name: Survived, dtype: int64\n"
     ]
    }
   ],
   "source": [
    "# Group by SibSp\n",
    "sib_sp= df_train.groupby(['Survived','SibSp'])\n",
    "print(sib_sp['Survived'].agg('count'))\n"
   ]
  },
  {
   "cell_type": "code",
   "execution_count": 68,
   "metadata": {},
   "outputs": [
    {
     "data": {
      "image/png": "[encoded data removed]",
      "text/plain": [
       "<Figure size 432x288 with 1 Axes>"
      ]
     },
     "metadata": {},
     "output_type": "display_data"
    },
    {
     "data": {
      "image/png": "[encoded data removed]",
      "text/plain": [
       "<Figure size 432x288 with 1 Axes>"
      ]
     },
     "metadata": {},
     "output_type": "display_data"
    }
   ],
   "source": [
    "\n",
    "plt.figure()\n",
    "sn.boxplot(x='Pclass', y='Fare', data=df_train)\n",
    "plt.title('Box Plot of Ticket Fares with Passenger Class')\n",
    "\n",
    "plt.figure()\n",
    "sn.violinplot(x='Pclass', y='Fare', data=df_train)\n",
    "plt.title('Violin Plot of Ticket Fares with Passenger Class')\n",
    "plt.show()\n",
    "\n"
   ]
  },
  {
   "cell_type": "code",
   "execution_count": 69,
   "metadata": {},
   "outputs": [
    {
     "data": {
      "image/png": "[encoded data removed]",
      "text/plain": [
       "<Figure size 432x288 with 1 Axes>"
      ]
     },
     "metadata": {},
     "output_type": "display_data"
    }
   ],
   "source": [
    "# Group by Fare\n",
    "\n",
    "def convert_fares(df):\n",
    "    def fare_groups(value):\n",
    "        if(value >= 0.0 and value <= 100.0):\n",
    "            return 'low fare (0-100)'\n",
    "        elif(value > 100.0 and value <= 250):\n",
    "            return 'medium fare (100-250)'\n",
    "        elif(value > 250.0):\n",
    "            return 'high fare (> 250)'\n",
    "    fare_category = df['Fare'].apply(fare_groups)\n",
    "    return fare_category\n",
    "\n",
    "df_train['Fare_Group'] = convert_fares(df_train)\n",
    "sn.countplot(x='Survived', hue='Fare_Group', data = df_train)\n",
    "plt.show()  "
   ]
  },
  {
   "cell_type": "code",
   "execution_count": 70,
   "metadata": {},
   "outputs": [
    {
     "name": "stdout",
     "output_type": "stream",
     "text": [
      "          min       max       mean\n",
      "Survived                          \n",
      "0         0.0  263.0000  22.117887\n",
      "1         0.0  512.3292  48.395408\n"
     ]
    }
   ],
   "source": [
    "# Group by Survived\n",
    "fares= df_train.groupby(['Survived'])\n",
    "print(fares['Fare'].agg(['min', 'max', 'mean']))\n"
   ]
  },
  {
   "cell_type": "code",
   "execution_count": 71,
   "metadata": {},
   "outputs": [
    {
     "name": "stdout",
     "output_type": "stream",
     "text": [
      "        min       max       mean\n",
      "Pclass                          \n",
      "1       0.0  512.3292  84.154687\n",
      "2       0.0   73.5000  20.662183\n",
      "3       0.0   69.5500  13.675550\n"
     ]
    }
   ],
   "source": [
    "# Group  dataframe by Pclass\n",
    "pg_class = df_train.groupby(['Pclass'])\n",
    "print(pg_class['Fare'].agg(['min', 'max', 'mean']))\n"
   ]
  },
  {
   "cell_type": "code",
   "execution_count": 72,
   "metadata": {},
   "outputs": [
    {
     "name": "stdout",
     "output_type": "stream",
     "text": [
      "                           min       max        mean\n",
      "Fare_Group                                          \n",
      "high fare (> 250)      262.375  512.3292  345.970844\n",
      "low fare (0-100)         0.000   93.5000   22.411942\n",
      "medium fare (100-250)  106.425  247.5208  154.522816\n"
     ]
    }
   ],
   "source": [
    "# Group by Fare Group\n",
    "fare_agg= df_train.groupby(['Fare_Group'])\n",
    "print(fare_agg['Fare'].agg(['min', 'max', 'mean']))\n"
   ]
  },
  {
   "cell_type": "code",
   "execution_count": 73,
   "metadata": {},
   "outputs": [
    {
     "data": {
      "text/html": [
       "<div>\n",
       "<style scoped>\n",
       "    .dataframe tbody tr th:only-of-type {\n",
       "        vertical-align: middle;\n",
       "    }\n",
       "\n",
       "    .dataframe tbody tr th {\n",
       "        vertical-align: top;\n",
       "    }\n",
       "\n",
       "    .dataframe thead th {\n",
       "        text-align: right;\n",
       "    }\n",
       "</style>\n",
       "<table border=\"1\" class=\"dataframe\">\n",
       "  <thead>\n",
       "    <tr style=\"text-align: right;\">\n",
       "      <th></th>\n",
       "      <th>PassengerId</th>\n",
       "      <th>Survived</th>\n",
       "      <th>Pclass</th>\n",
       "      <th>Name</th>\n",
       "      <th>Sex</th>\n",
       "      <th>Age</th>\n",
       "      <th>SibSp</th>\n",
       "      <th>Parch</th>\n",
       "      <th>Ticket</th>\n",
       "      <th>Fare</th>\n",
       "      <th>Cabin</th>\n",
       "      <th>Embarked</th>\n",
       "      <th>Sexn</th>\n",
       "      <th>Embarkedn</th>\n",
       "      <th>Age_Group</th>\n",
       "      <th>Fare_Group</th>\n",
       "    </tr>\n",
       "  </thead>\n",
       "  <tbody>\n",
       "    <tr>\n",
       "      <th>258</th>\n",
       "      <td>259</td>\n",
       "      <td>1</td>\n",
       "      <td>1</td>\n",
       "      <td>Ward, Miss. Anna</td>\n",
       "      <td>female</td>\n",
       "      <td>35.0</td>\n",
       "      <td>0</td>\n",
       "      <td>0</td>\n",
       "      <td>PC 17755</td>\n",
       "      <td>512.3292</td>\n",
       "      <td>NaN</td>\n",
       "      <td>C</td>\n",
       "      <td>0</td>\n",
       "      <td>0</td>\n",
       "      <td>Adult-30s</td>\n",
       "      <td>high fare (&gt; 250)</td>\n",
       "    </tr>\n",
       "    <tr>\n",
       "      <th>679</th>\n",
       "      <td>680</td>\n",
       "      <td>1</td>\n",
       "      <td>1</td>\n",
       "      <td>Cardeza, Mr. Thomas Drake Martinez</td>\n",
       "      <td>male</td>\n",
       "      <td>36.0</td>\n",
       "      <td>0</td>\n",
       "      <td>1</td>\n",
       "      <td>PC 17755</td>\n",
       "      <td>512.3292</td>\n",
       "      <td>B51 B53 B55</td>\n",
       "      <td>C</td>\n",
       "      <td>1</td>\n",
       "      <td>0</td>\n",
       "      <td>Adult-30s</td>\n",
       "      <td>high fare (&gt; 250)</td>\n",
       "    </tr>\n",
       "    <tr>\n",
       "      <th>737</th>\n",
       "      <td>738</td>\n",
       "      <td>1</td>\n",
       "      <td>1</td>\n",
       "      <td>Lesurer, Mr. Gustave J</td>\n",
       "      <td>male</td>\n",
       "      <td>35.0</td>\n",
       "      <td>0</td>\n",
       "      <td>0</td>\n",
       "      <td>PC 17755</td>\n",
       "      <td>512.3292</td>\n",
       "      <td>B101</td>\n",
       "      <td>C</td>\n",
       "      <td>1</td>\n",
       "      <td>0</td>\n",
       "      <td>Adult-30s</td>\n",
       "      <td>high fare (&gt; 250)</td>\n",
       "    </tr>\n",
       "  </tbody>\n",
       "</table>\n",
       "</div>"
      ],
      "text/plain": [
       "     PassengerId  Survived  Pclass                                Name  \\\n",
       "258          259         1       1                    Ward, Miss. Anna   \n",
       "679          680         1       1  Cardeza, Mr. Thomas Drake Martinez   \n",
       "737          738         1       1              Lesurer, Mr. Gustave J   \n",
       "\n",
       "        Sex   Age  SibSp  Parch    Ticket      Fare        Cabin Embarked  \\\n",
       "258  female  35.0      0      0  PC 17755  512.3292          NaN        C   \n",
       "679    male  36.0      0      1  PC 17755  512.3292  B51 B53 B55        C   \n",
       "737    male  35.0      0      0  PC 17755  512.3292         B101        C   \n",
       "\n",
       "     Sexn  Embarkedn  Age_Group         Fare_Group  \n",
       "258     0          0  Adult-30s  high fare (> 250)  \n",
       "679     1          0  Adult-30s  high fare (> 250)  \n",
       "737     1          0  Adult-30s  high fare (> 250)  "
      ]
     },
     "execution_count": 73,
     "metadata": {},
     "output_type": "execute_result"
    }
   ],
   "source": [
    "df_train[df_train['Fare'] ==df_train['Fare'].max()]"
   ]
  },
  {
   "cell_type": "code",
   "execution_count": 74,
   "metadata": {},
   "outputs": [
    {
     "data": {
      "text/html": [
       "<div>\n",
       "<style scoped>\n",
       "    .dataframe tbody tr th:only-of-type {\n",
       "        vertical-align: middle;\n",
       "    }\n",
       "\n",
       "    .dataframe tbody tr th {\n",
       "        vertical-align: top;\n",
       "    }\n",
       "\n",
       "    .dataframe thead th {\n",
       "        text-align: right;\n",
       "    }\n",
       "</style>\n",
       "<table border=\"1\" class=\"dataframe\">\n",
       "  <thead>\n",
       "    <tr style=\"text-align: right;\">\n",
       "      <th></th>\n",
       "      <th>PassengerId</th>\n",
       "      <th>Survived</th>\n",
       "      <th>Pclass</th>\n",
       "      <th>Name</th>\n",
       "      <th>Sex</th>\n",
       "      <th>Age</th>\n",
       "      <th>SibSp</th>\n",
       "      <th>Parch</th>\n",
       "      <th>Ticket</th>\n",
       "      <th>Fare</th>\n",
       "      <th>Cabin</th>\n",
       "      <th>Embarked</th>\n",
       "      <th>Sexn</th>\n",
       "      <th>Embarkedn</th>\n",
       "      <th>Age_Group</th>\n",
       "      <th>Fare_Group</th>\n",
       "    </tr>\n",
       "  </thead>\n",
       "  <tbody>\n",
       "    <tr>\n",
       "      <th>179</th>\n",
       "      <td>180</td>\n",
       "      <td>0</td>\n",
       "      <td>3</td>\n",
       "      <td>Leonard, Mr. Lionel</td>\n",
       "      <td>male</td>\n",
       "      <td>36.000000</td>\n",
       "      <td>0</td>\n",
       "      <td>0</td>\n",
       "      <td>LINE</td>\n",
       "      <td>0.0</td>\n",
       "      <td>NaN</td>\n",
       "      <td>S</td>\n",
       "      <td>1</td>\n",
       "      <td>2</td>\n",
       "      <td>Adult-30s</td>\n",
       "      <td>low fare (0-100)</td>\n",
       "    </tr>\n",
       "    <tr>\n",
       "      <th>263</th>\n",
       "      <td>264</td>\n",
       "      <td>0</td>\n",
       "      <td>1</td>\n",
       "      <td>Harrison, Mr. William</td>\n",
       "      <td>male</td>\n",
       "      <td>40.000000</td>\n",
       "      <td>0</td>\n",
       "      <td>0</td>\n",
       "      <td>112059</td>\n",
       "      <td>0.0</td>\n",
       "      <td>B94</td>\n",
       "      <td>S</td>\n",
       "      <td>1</td>\n",
       "      <td>2</td>\n",
       "      <td>Adult-30s</td>\n",
       "      <td>low fare (0-100)</td>\n",
       "    </tr>\n",
       "    <tr>\n",
       "      <th>271</th>\n",
       "      <td>272</td>\n",
       "      <td>1</td>\n",
       "      <td>3</td>\n",
       "      <td>Tornquist, Mr. William Henry</td>\n",
       "      <td>male</td>\n",
       "      <td>25.000000</td>\n",
       "      <td>0</td>\n",
       "      <td>0</td>\n",
       "      <td>LINE</td>\n",
       "      <td>0.0</td>\n",
       "      <td>NaN</td>\n",
       "      <td>S</td>\n",
       "      <td>1</td>\n",
       "      <td>2</td>\n",
       "      <td>Adult-20s</td>\n",
       "      <td>low fare (0-100)</td>\n",
       "    </tr>\n",
       "    <tr>\n",
       "      <th>277</th>\n",
       "      <td>278</td>\n",
       "      <td>0</td>\n",
       "      <td>2</td>\n",
       "      <td>Parkes, Mr. Francis \"Frank\"</td>\n",
       "      <td>male</td>\n",
       "      <td>29.699118</td>\n",
       "      <td>0</td>\n",
       "      <td>0</td>\n",
       "      <td>239853</td>\n",
       "      <td>0.0</td>\n",
       "      <td>NaN</td>\n",
       "      <td>S</td>\n",
       "      <td>1</td>\n",
       "      <td>2</td>\n",
       "      <td>Adult-20s</td>\n",
       "      <td>low fare (0-100)</td>\n",
       "    </tr>\n",
       "    <tr>\n",
       "      <th>302</th>\n",
       "      <td>303</td>\n",
       "      <td>0</td>\n",
       "      <td>3</td>\n",
       "      <td>Johnson, Mr. William Cahoone Jr</td>\n",
       "      <td>male</td>\n",
       "      <td>19.000000</td>\n",
       "      <td>0</td>\n",
       "      <td>0</td>\n",
       "      <td>LINE</td>\n",
       "      <td>0.0</td>\n",
       "      <td>NaN</td>\n",
       "      <td>S</td>\n",
       "      <td>1</td>\n",
       "      <td>2</td>\n",
       "      <td>Teen</td>\n",
       "      <td>low fare (0-100)</td>\n",
       "    </tr>\n",
       "    <tr>\n",
       "      <th>413</th>\n",
       "      <td>414</td>\n",
       "      <td>0</td>\n",
       "      <td>2</td>\n",
       "      <td>Cunningham, Mr. Alfred Fleming</td>\n",
       "      <td>male</td>\n",
       "      <td>29.699118</td>\n",
       "      <td>0</td>\n",
       "      <td>0</td>\n",
       "      <td>239853</td>\n",
       "      <td>0.0</td>\n",
       "      <td>NaN</td>\n",
       "      <td>S</td>\n",
       "      <td>1</td>\n",
       "      <td>2</td>\n",
       "      <td>Adult-20s</td>\n",
       "      <td>low fare (0-100)</td>\n",
       "    </tr>\n",
       "    <tr>\n",
       "      <th>466</th>\n",
       "      <td>467</td>\n",
       "      <td>0</td>\n",
       "      <td>2</td>\n",
       "      <td>Campbell, Mr. William</td>\n",
       "      <td>male</td>\n",
       "      <td>29.699118</td>\n",
       "      <td>0</td>\n",
       "      <td>0</td>\n",
       "      <td>239853</td>\n",
       "      <td>0.0</td>\n",
       "      <td>NaN</td>\n",
       "      <td>S</td>\n",
       "      <td>1</td>\n",
       "      <td>2</td>\n",
       "      <td>Adult-20s</td>\n",
       "      <td>low fare (0-100)</td>\n",
       "    </tr>\n",
       "    <tr>\n",
       "      <th>481</th>\n",
       "      <td>482</td>\n",
       "      <td>0</td>\n",
       "      <td>2</td>\n",
       "      <td>Frost, Mr. Anthony Wood \"Archie\"</td>\n",
       "      <td>male</td>\n",
       "      <td>29.699118</td>\n",
       "      <td>0</td>\n",
       "      <td>0</td>\n",
       "      <td>239854</td>\n",
       "      <td>0.0</td>\n",
       "      <td>NaN</td>\n",
       "      <td>S</td>\n",
       "      <td>1</td>\n",
       "      <td>2</td>\n",
       "      <td>Adult-20s</td>\n",
       "      <td>low fare (0-100)</td>\n",
       "    </tr>\n",
       "    <tr>\n",
       "      <th>597</th>\n",
       "      <td>598</td>\n",
       "      <td>0</td>\n",
       "      <td>3</td>\n",
       "      <td>Johnson, Mr. Alfred</td>\n",
       "      <td>male</td>\n",
       "      <td>49.000000</td>\n",
       "      <td>0</td>\n",
       "      <td>0</td>\n",
       "      <td>LINE</td>\n",
       "      <td>0.0</td>\n",
       "      <td>NaN</td>\n",
       "      <td>S</td>\n",
       "      <td>1</td>\n",
       "      <td>2</td>\n",
       "      <td>Adult-40s</td>\n",
       "      <td>low fare (0-100)</td>\n",
       "    </tr>\n",
       "    <tr>\n",
       "      <th>633</th>\n",
       "      <td>634</td>\n",
       "      <td>0</td>\n",
       "      <td>1</td>\n",
       "      <td>Parr, Mr. William Henry Marsh</td>\n",
       "      <td>male</td>\n",
       "      <td>29.699118</td>\n",
       "      <td>0</td>\n",
       "      <td>0</td>\n",
       "      <td>112052</td>\n",
       "      <td>0.0</td>\n",
       "      <td>NaN</td>\n",
       "      <td>S</td>\n",
       "      <td>1</td>\n",
       "      <td>2</td>\n",
       "      <td>Adult-20s</td>\n",
       "      <td>low fare (0-100)</td>\n",
       "    </tr>\n",
       "    <tr>\n",
       "      <th>674</th>\n",
       "      <td>675</td>\n",
       "      <td>0</td>\n",
       "      <td>2</td>\n",
       "      <td>Watson, Mr. Ennis Hastings</td>\n",
       "      <td>male</td>\n",
       "      <td>29.699118</td>\n",
       "      <td>0</td>\n",
       "      <td>0</td>\n",
       "      <td>239856</td>\n",
       "      <td>0.0</td>\n",
       "      <td>NaN</td>\n",
       "      <td>S</td>\n",
       "      <td>1</td>\n",
       "      <td>2</td>\n",
       "      <td>Adult-20s</td>\n",
       "      <td>low fare (0-100)</td>\n",
       "    </tr>\n",
       "    <tr>\n",
       "      <th>732</th>\n",
       "      <td>733</td>\n",
       "      <td>0</td>\n",
       "      <td>2</td>\n",
       "      <td>Knight, Mr. Robert J</td>\n",
       "      <td>male</td>\n",
       "      <td>29.699118</td>\n",
       "      <td>0</td>\n",
       "      <td>0</td>\n",
       "      <td>239855</td>\n",
       "      <td>0.0</td>\n",
       "      <td>NaN</td>\n",
       "      <td>S</td>\n",
       "      <td>1</td>\n",
       "      <td>2</td>\n",
       "      <td>Adult-20s</td>\n",
       "      <td>low fare (0-100)</td>\n",
       "    </tr>\n",
       "    <tr>\n",
       "      <th>806</th>\n",
       "      <td>807</td>\n",
       "      <td>0</td>\n",
       "      <td>1</td>\n",
       "      <td>Andrews, Mr. Thomas Jr</td>\n",
       "      <td>male</td>\n",
       "      <td>39.000000</td>\n",
       "      <td>0</td>\n",
       "      <td>0</td>\n",
       "      <td>112050</td>\n",
       "      <td>0.0</td>\n",
       "      <td>A36</td>\n",
       "      <td>S</td>\n",
       "      <td>1</td>\n",
       "      <td>2</td>\n",
       "      <td>Adult-30s</td>\n",
       "      <td>low fare (0-100)</td>\n",
       "    </tr>\n",
       "    <tr>\n",
       "      <th>815</th>\n",
       "      <td>816</td>\n",
       "      <td>0</td>\n",
       "      <td>1</td>\n",
       "      <td>Fry, Mr. Richard</td>\n",
       "      <td>male</td>\n",
       "      <td>29.699118</td>\n",
       "      <td>0</td>\n",
       "      <td>0</td>\n",
       "      <td>112058</td>\n",
       "      <td>0.0</td>\n",
       "      <td>B102</td>\n",
       "      <td>S</td>\n",
       "      <td>1</td>\n",
       "      <td>2</td>\n",
       "      <td>Adult-20s</td>\n",
       "      <td>low fare (0-100)</td>\n",
       "    </tr>\n",
       "    <tr>\n",
       "      <th>822</th>\n",
       "      <td>823</td>\n",
       "      <td>0</td>\n",
       "      <td>1</td>\n",
       "      <td>Reuchlin, Jonkheer. John George</td>\n",
       "      <td>male</td>\n",
       "      <td>38.000000</td>\n",
       "      <td>0</td>\n",
       "      <td>0</td>\n",
       "      <td>19972</td>\n",
       "      <td>0.0</td>\n",
       "      <td>NaN</td>\n",
       "      <td>S</td>\n",
       "      <td>1</td>\n",
       "      <td>2</td>\n",
       "      <td>Adult-30s</td>\n",
       "      <td>low fare (0-100)</td>\n",
       "    </tr>\n",
       "  </tbody>\n",
       "</table>\n",
       "</div>"
      ],
      "text/plain": [
       "     PassengerId  Survived  Pclass                              Name   Sex  \\\n",
       "179          180         0       3               Leonard, Mr. Lionel  male   \n",
       "263          264         0       1             Harrison, Mr. William  male   \n",
       "271          272         1       3      Tornquist, Mr. William Henry  male   \n",
       "277          278         0       2       Parkes, Mr. Francis \"Frank\"  male   \n",
       "302          303         0       3   Johnson, Mr. William Cahoone Jr  male   \n",
       "413          414         0       2    Cunningham, Mr. Alfred Fleming  male   \n",
       "466          467         0       2             Campbell, Mr. William  male   \n",
       "481          482         0       2  Frost, Mr. Anthony Wood \"Archie\"  male   \n",
       "597          598         0       3               Johnson, Mr. Alfred  male   \n",
       "633          634         0       1     Parr, Mr. William Henry Marsh  male   \n",
       "674          675         0       2        Watson, Mr. Ennis Hastings  male   \n",
       "732          733         0       2              Knight, Mr. Robert J  male   \n",
       "806          807         0       1            Andrews, Mr. Thomas Jr  male   \n",
       "815          816         0       1                  Fry, Mr. Richard  male   \n",
       "822          823         0       1   Reuchlin, Jonkheer. John George  male   \n",
       "\n",
       "           Age  SibSp  Parch  Ticket  Fare Cabin Embarked  Sexn  Embarkedn  \\\n",
       "179  36.000000      0      0    LINE   0.0   NaN        S     1          2   \n",
       "263  40.000000      0      0  112059   0.0   B94        S     1          2   \n",
       "271  25.000000      0      0    LINE   0.0   NaN        S     1          2   \n",
       "277  29.699118      0      0  239853   0.0   NaN        S     1          2   \n",
       "302  19.000000      0      0    LINE   0.0   NaN        S     1          2   \n",
       "413  29.699118      0      0  239853   0.0   NaN        S     1          2   \n",
       "466  29.699118      0      0  239853   0.0   NaN        S     1          2   \n",
       "481  29.699118      0      0  239854   0.0   NaN        S     1          2   \n",
       "597  49.000000      0      0    LINE   0.0   NaN        S     1          2   \n",
       "633  29.699118      0      0  112052   0.0   NaN        S     1          2   \n",
       "674  29.699118      0      0  239856   0.0   NaN        S     1          2   \n",
       "732  29.699118      0      0  239855   0.0   NaN        S     1          2   \n",
       "806  39.000000      0      0  112050   0.0   A36        S     1          2   \n",
       "815  29.699118      0      0  112058   0.0  B102        S     1          2   \n",
       "822  38.000000      0      0   19972   0.0   NaN        S     1          2   \n",
       "\n",
       "     Age_Group        Fare_Group  \n",
       "179  Adult-30s  low fare (0-100)  \n",
       "263  Adult-30s  low fare (0-100)  \n",
       "271  Adult-20s  low fare (0-100)  \n",
       "277  Adult-20s  low fare (0-100)  \n",
       "302       Teen  low fare (0-100)  \n",
       "413  Adult-20s  low fare (0-100)  \n",
       "466  Adult-20s  low fare (0-100)  \n",
       "481  Adult-20s  low fare (0-100)  \n",
       "597  Adult-40s  low fare (0-100)  \n",
       "633  Adult-20s  low fare (0-100)  \n",
       "674  Adult-20s  low fare (0-100)  \n",
       "732  Adult-20s  low fare (0-100)  \n",
       "806  Adult-30s  low fare (0-100)  \n",
       "815  Adult-20s  low fare (0-100)  \n",
       "822  Adult-30s  low fare (0-100)  "
      ]
     },
     "execution_count": 74,
     "metadata": {},
     "output_type": "execute_result"
    }
   ],
   "source": [
    "df_train[df_train['Fare'] == 0.0]"
   ]
  },
  {
   "cell_type": "code",
   "execution_count": 75,
   "metadata": {},
   "outputs": [
    {
     "data": {
      "text/html": [
       "<div>\n",
       "<style scoped>\n",
       "    .dataframe tbody tr th:only-of-type {\n",
       "        vertical-align: middle;\n",
       "    }\n",
       "\n",
       "    .dataframe tbody tr th {\n",
       "        vertical-align: top;\n",
       "    }\n",
       "\n",
       "    .dataframe thead th {\n",
       "        text-align: right;\n",
       "    }\n",
       "</style>\n",
       "<table border=\"1\" class=\"dataframe\">\n",
       "  <thead>\n",
       "    <tr style=\"text-align: right;\">\n",
       "      <th></th>\n",
       "      <th>Pclass</th>\n",
       "      <th>Sexn</th>\n",
       "      <th>Age</th>\n",
       "      <th>SibSp</th>\n",
       "      <th>Parch</th>\n",
       "      <th>Fare</th>\n",
       "      <th>Embarkedn</th>\n",
       "    </tr>\n",
       "  </thead>\n",
       "  <tbody>\n",
       "    <tr>\n",
       "      <th>0</th>\n",
       "      <td>3</td>\n",
       "      <td>1</td>\n",
       "      <td>22.0</td>\n",
       "      <td>1</td>\n",
       "      <td>0</td>\n",
       "      <td>7.2500</td>\n",
       "      <td>2</td>\n",
       "    </tr>\n",
       "    <tr>\n",
       "      <th>1</th>\n",
       "      <td>1</td>\n",
       "      <td>0</td>\n",
       "      <td>38.0</td>\n",
       "      <td>1</td>\n",
       "      <td>0</td>\n",
       "      <td>71.2833</td>\n",
       "      <td>0</td>\n",
       "    </tr>\n",
       "    <tr>\n",
       "      <th>2</th>\n",
       "      <td>3</td>\n",
       "      <td>0</td>\n",
       "      <td>26.0</td>\n",
       "      <td>0</td>\n",
       "      <td>0</td>\n",
       "      <td>7.9250</td>\n",
       "      <td>2</td>\n",
       "    </tr>\n",
       "    <tr>\n",
       "      <th>3</th>\n",
       "      <td>1</td>\n",
       "      <td>0</td>\n",
       "      <td>35.0</td>\n",
       "      <td>1</td>\n",
       "      <td>0</td>\n",
       "      <td>53.1000</td>\n",
       "      <td>2</td>\n",
       "    </tr>\n",
       "    <tr>\n",
       "      <th>4</th>\n",
       "      <td>3</td>\n",
       "      <td>1</td>\n",
       "      <td>35.0</td>\n",
       "      <td>0</td>\n",
       "      <td>0</td>\n",
       "      <td>8.0500</td>\n",
       "      <td>2</td>\n",
       "    </tr>\n",
       "  </tbody>\n",
       "</table>\n",
       "</div>"
      ],
      "text/plain": [
       "   Pclass  Sexn   Age  SibSp  Parch     Fare  Embarkedn\n",
       "0       3     1  22.0      1      0   7.2500          2\n",
       "1       1     0  38.0      1      0  71.2833          0\n",
       "2       3     0  26.0      0      0   7.9250          2\n",
       "3       1     0  35.0      1      0  53.1000          2\n",
       "4       3     1  35.0      0      0   8.0500          2"
      ]
     },
     "execution_count": 75,
     "metadata": {},
     "output_type": "execute_result"
    }
   ],
   "source": [
    "# Training Data and Testing Data\n",
    "X_train = df_train[[ 'Pclass', 'Sexn', 'Age', 'SibSp', 'Parch', 'Fare', 'Embarkedn']]\n",
    "# X_train = X_train.dropna(axis=0, subset=['Age'])\n",
    "y_train = df_train['Survived']\n",
    "X_train.head()"
   ]
  },
  {
   "cell_type": "code",
   "execution_count": 76,
   "metadata": {},
   "outputs": [
    {
     "data": {
      "text/plain": [
       "Pclass       418\n",
       "Sexn         418\n",
       "Age          418\n",
       "SibSp        418\n",
       "Parch        418\n",
       "Fare         418\n",
       "Embarkedn    418\n",
       "dtype: int64"
      ]
     },
     "execution_count": 76,
     "metadata": {},
     "output_type": "execute_result"
    }
   ],
   "source": [
    "# Testing Data\n",
    "\n",
    "X_test = df_test[[ 'Pclass', 'Sexn', 'Age', 'SibSp', 'Parch', 'Fare', 'Embarkedn']]\n",
    "X_test.count()"
   ]
  },
  {
   "cell_type": "code",
   "execution_count": 77,
   "metadata": {},
   "outputs": [
    {
     "name": "stdout",
     "output_type": "stream",
     "text": [
      "[9.35408717e-01 6.34734709e-02 4.82654790e-04]\n"
     ]
    }
   ],
   "source": [
    "# Principal Component Analysis\n",
    "from sklearn.decomposition import PCA\n",
    "X_train_np = X_train.as_matrix\n",
    "pca = PCA(n_components=3, svd_solver='randomized')\n",
    "pca.fit(X_train)\n",
    "X_tr_pca = pca.transform(X_train)\n",
    "print(pca.explained_variance_ratio_)"
   ]
  },
  {
   "cell_type": "code",
   "execution_count": 78,
   "metadata": {},
   "outputs": [
    {
     "data": {
      "text/plain": [
       "891"
      ]
     },
     "execution_count": 78,
     "metadata": {},
     "output_type": "execute_result"
    }
   ],
   "source": [
    "# Number of unique values in Passenger Id\n",
    "df_train['PassengerId'].nunique()"
   ]
  },
  {
   "cell_type": "code",
   "execution_count": 79,
   "metadata": {},
   "outputs": [
    {
     "data": {
      "text/plain": [
       "array([[-2.51505366e+01, -7.06747764e+00,  2.93532224e-01],\n",
       "       [ 3.92960638e+01,  7.30466203e+00, -2.23255681e-02],\n",
       "       [-2.43747835e+01, -3.07046895e+00, -4.43025170e-01],\n",
       "       ...,\n",
       "       [-8.75036472e+00,  1.79618780e-01,  1.30795826e+00],\n",
       "       [-2.28458986e+00, -3.59837956e+00, -1.12950803e+00],\n",
       "       [-2.43937602e+01,  2.93301680e+00, -4.83766037e-01]])"
      ]
     },
     "execution_count": 79,
     "metadata": {},
     "output_type": "execute_result"
    }
   ],
   "source": [
    "X_tr_pca"
   ]
  },
  {
   "cell_type": "code",
   "execution_count": 91,
   "metadata": {},
   "outputs": [
    {
     "name": "stdout",
     "output_type": "stream",
     "text": [
      "             precision    recall  f1-score   support\n",
      "\n",
      "          0       0.86      0.89      0.88       138\n",
      "          1       0.81      0.76      0.79        85\n",
      "\n",
      "avg / total       0.84      0.84      0.84       223\n",
      "\n"
     ]
    }
   ],
   "source": [
    "# Use Decision Tree Classifier\n",
    "\n",
    "from sklearn.tree import DecisionTreeClassifier\n",
    "from sklearn.ensemble import RandomForestClassifier\n",
    "from sklearn.metrics import classification_report\n",
    "from sklearn.model_selection import train_test_split, GridSearchCV\n",
    "\n",
    "Xn_train, Xn_test, yn_train, yn_test =  train_test_split(X_train, y_train)\n",
    "\n",
    "# use a full grid over all parameters\n",
    "clf = RandomForestClassifier(n_estimators=20)\n",
    "# clf = RandomForestClassifier(n_jobs=-1, max_features='sqrt', oob_score = True)\n",
    "param_grid = {\"max_depth\": [3, None],\n",
    "              \"max_features\": [3, 5, 7],\n",
    "              \"min_samples_split\": [2, 3, 10],\n",
    "              \"min_samples_leaf\": [1, 3, 10],\n",
    "              \"bootstrap\": [True, False],\n",
    "              \"criterion\": [\"gini\", \"entropy\"]}\n",
    "#param_grid = { \n",
    "#           \"n_estimators\" : [9, 18, 27, 36, 45, 54, 63],\n",
    "#           \"max_depth\" : [1, 5, 10, 15, 20, 25, 30],\n",
    "#           \"min_samples_leaf\" : [1, 2, 4, 6, 8, 10]\n",
    "#}\n",
    "\n",
    "grid_search = GridSearchCV(clf, param_grid=param_grid)\n",
    "\n",
    "\n",
    "\n",
    "grid_search.fit(Xn_train, yn_train)\n",
    "#print(grid_search.cv_results_)\n",
    "\n",
    "prediction = grid_search.predict(Xn_test)\n",
    "print(classification_report(yn_test, prediction))"
   ]
  },
  {
   "cell_type": "code",
   "execution_count": null,
   "metadata": {},
   "outputs": [],
   "source": []
  }
 ],
 "metadata": {
  "kernelspec": {
   "display_name": "Python 3",
   "language": "python",
   "name": "python3"
  },
  "language_info": {
   "codemirror_mode": {
    "name": "ipython",
    "version": 3
   },
   "file_extension": ".py",
   "mimetype": "text/x-python",
   "name": "python",
   "nbconvert_exporter": "python",
   "pygments_lexer": "ipython3",
   "version": "3.6.4"
  }
 },
 "nbformat": 4,
 "nbformat_minor": 2
}
